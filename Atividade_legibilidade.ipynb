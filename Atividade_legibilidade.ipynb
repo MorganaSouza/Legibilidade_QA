{
  "nbformat": 4,
  "nbformat_minor": 0,
  "metadata": {
    "colab": {
      "provenance": []
    },
    "kernelspec": {
      "name": "python3",
      "display_name": "Python 3"
    },
    "language_info": {
      "name": "python"
    }
  },
  "cells": [
    {
      "cell_type": "markdown",
      "source": [
        "Atividade de Qualidade de Software: Legibilidade dos Códigos\n",
        "Nome: Morgana Souza\n",
        "Turma: TADHS036\n",
        "Professor: Thiago"
      ],
      "metadata": {
        "id": "SOrwNvkVR5bM"
      }
    },
    {
      "cell_type": "markdown",
      "source": [
        "1. Nomes ruins,\n",
        "  Código ruim:\n"
      ],
      "metadata": {
        "id": "0qOiUpyYO7bW"
      }
    },
    {
      "cell_type": "code",
      "execution_count": 28,
      "metadata": {
        "colab": {
          "base_uri": "https://localhost:8080/"
        },
        "id": "BC4vxKQ4O39u",
        "outputId": "64b8ecef-3329-47b5-f6ed-b7d3e6b72b86"
      },
      "outputs": [
        {
          "output_type": "stream",
          "name": "stdout",
          "text": [
            "50\n"
          ]
        }
      ],
      "source": [
        "def f(x, y):\n",
        "    return x * y\n",
        "\n",
        "a = f(5, 10)\n",
        "print(a)"
      ]
    },
    {
      "cell_type": "markdown",
      "source": [
        "Código corrigido:"
      ],
      "metadata": {
        "id": "RI0QqChzPFzu"
      }
    },
    {
      "cell_type": "code",
      "source": [
        "def calcular_area_retangulo(base, altura):\n",
        "    return base * altura\n",
        "\n",
        "area = calcular_area_retangulo(5, 10)\n",
        "print(area)"
      ],
      "metadata": {
        "colab": {
          "base_uri": "https://localhost:8080/"
        },
        "id": "ycty09tZPIEO",
        "outputId": "6493befe-b0c6-4f7c-b57a-6ecdd73275a5"
      },
      "execution_count": 29,
      "outputs": [
        {
          "output_type": "stream",
          "name": "stdout",
          "text": [
            "50\n"
          ]
        }
      ]
    },
    {
      "cell_type": "markdown",
      "source": [
        "2. Números mágicos, Código Ruim:"
      ],
      "metadata": {
        "id": "fxVgRCabPOwt"
      }
    },
    {
      "cell_type": "code",
      "source": [
        "salario = 2000\n",
        "bonus = salario * 0.15\n",
        "print(bonus)"
      ],
      "metadata": {
        "colab": {
          "base_uri": "https://localhost:8080/"
        },
        "id": "DhdfLxTLPVZl",
        "outputId": "55ad5dcc-6d15-49d9-cb1a-9f175ec58541"
      },
      "execution_count": 30,
      "outputs": [
        {
          "output_type": "stream",
          "name": "stdout",
          "text": [
            "300.0\n"
          ]
        }
      ]
    },
    {
      "cell_type": "markdown",
      "source": [
        "Código corrigido:"
      ],
      "metadata": {
        "id": "jgA052UgPX-d"
      }
    },
    {
      "cell_type": "code",
      "source": [
        "PERCENTUAL_BONUS = 0.15\n",
        "\n",
        "salario = 2000\n",
        "bonus = salario * PERCENTUAL_BONUS\n",
        "print(bonus)"
      ],
      "metadata": {
        "colab": {
          "base_uri": "https://localhost:8080/"
        },
        "id": "Y1OXta17Palf",
        "outputId": "c4d8c735-ad62-4545-f979-0257b9f4923d"
      },
      "execution_count": 31,
      "outputs": [
        {
          "output_type": "stream",
          "name": "stdout",
          "text": [
            "300.0\n"
          ]
        }
      ]
    },
    {
      "cell_type": "markdown",
      "source": [
        "3. Função longa, Código Ruim:"
      ],
      "metadata": {
        "id": "mnailw9VPhne"
      }
    },
    {
      "cell_type": "code",
      "source": [
        "def processar():\n",
        "    nome = input(\"Digite o nome: \")\n",
        "    idade = int(input(\"Digite a idade: \"))\n",
        "    if idade >= 18:\n",
        "        print(f\"{nome} é maior de idade\")\n",
        "    else:\n",
        "        print(f\"{nome} é menor de idade\")\n"
      ],
      "metadata": {
        "id": "O4gUkat1PopN"
      },
      "execution_count": 32,
      "outputs": []
    },
    {
      "cell_type": "markdown",
      "source": [
        "Código corrigido:"
      ],
      "metadata": {
        "id": "Beu60zlsPvW4"
      }
    },
    {
      "cell_type": "code",
      "source": [
        "def ler_dados():\n",
        "    nome = input(\"Digite o nome: \")\n",
        "    idade = int(input(\"Digite a idade: \"))\n",
        "    return nome, idade\n",
        "\n",
        "def verificar_maioridade(nome, idade):\n",
        "    return f\"{nome} é maior de idade\" if idade >= 18 else f\"{nome} é menor de idade\"\n",
        "\n",
        "def processar():\n",
        "    nome, idade = ler_dados()\n",
        "    print(verificar_maioridade(nome, idade))\n"
      ],
      "metadata": {
        "id": "82XCYVsQPwWd"
      },
      "execution_count": 33,
      "outputs": []
    },
    {
      "cell_type": "markdown",
      "source": [
        "4. Aninhamento profundo, Código Ruim:"
      ],
      "metadata": {
        "id": "BjLwU7ChP1-z"
      }
    },
    {
      "cell_type": "code",
      "source": [
        "def verifica(x):\n",
        "    if x > 0:\n",
        "        if x < 10:\n",
        "            return \"Entre 1 e 9\"\n",
        "        else:\n",
        "            return \"Maior ou igual a 10\"\n",
        "    else:\n",
        "        return \"Menor ou igual a 0\""
      ],
      "metadata": {
        "id": "L1d9MEiBP9Fl"
      },
      "execution_count": 34,
      "outputs": []
    },
    {
      "cell_type": "markdown",
      "source": [
        "Código corrigido:"
      ],
      "metadata": {
        "id": "bMuwnq-dQF-z"
      }
    },
    {
      "cell_type": "code",
      "source": [
        "def verifica(x):\n",
        "    if x <= 0:\n",
        "        return \"Menor ou igual a 0\"\n",
        "    if x < 10:\n",
        "        return \"Entre 1 e 9\"\n",
        "    return \"Maior ou igual a 10\""
      ],
      "metadata": {
        "id": "hv0jdOScQIaV"
      },
      "execution_count": 35,
      "outputs": []
    },
    {
      "cell_type": "markdown",
      "source": [
        "5. Comentário desatualizado ou redundante, Código Ruim:"
      ],
      "metadata": {
        "id": "vYlcyxjFQg70"
      }
    },
    {
      "cell_type": "code",
      "source": [
        "# Soma dois números\n",
        "def soma(a, b):\n",
        "    return a + b  # aqui soma"
      ],
      "metadata": {
        "id": "pbgwEDKQQR31"
      },
      "execution_count": 36,
      "outputs": []
    },
    {
      "cell_type": "markdown",
      "source": [
        "Código corrigido:"
      ],
      "metadata": {
        "id": "JWteurA7QUYM"
      }
    },
    {
      "cell_type": "code",
      "source": [
        "def soma(a: int, b: int) -> int:\n",
        "    \"\"\"Retorna a soma de dois números inteiros.\"\"\"\n",
        "    return a + b"
      ],
      "metadata": {
        "id": "KTR3CV4jQX4F"
      },
      "execution_count": 37,
      "outputs": []
    },
    {
      "cell_type": "markdown",
      "source": [
        "6. Expressões booleanas opacas, Código Ruim:"
      ],
      "metadata": {
        "id": "VLVr0xG4QxJE"
      }
    },
    {
      "cell_type": "code",
      "source": [
        "idade = 20\n",
        "tem_carteira = True\n",
        "na_lista_negra = False\n",
        "\n",
        "# expressão opaca: difícil entender rápido\n",
        "if idade >= 18 and tem_carteira and not na_lista_negra:\n",
        "    print(\"Pode alugar o carro\")\n",
        "else:\n",
        "    print(\"Não pode alugar o carro\")"
      ],
      "metadata": {
        "colab": {
          "base_uri": "https://localhost:8080/"
        },
        "id": "l3efM_9pQ0pU",
        "outputId": "44fd15d1-5c4d-450d-e314-fc204281e0b4"
      },
      "execution_count": 38,
      "outputs": [
        {
          "output_type": "stream",
          "name": "stdout",
          "text": [
            "Pode alugar o carro\n"
          ]
        }
      ]
    },
    {
      "cell_type": "markdown",
      "source": [
        "Código corrigido:"
      ],
      "metadata": {
        "id": "OceKAe6IQ3zb"
      }
    },
    {
      "cell_type": "code",
      "source": [
        "idade = 20\n",
        "tem_carteira = True\n",
        "na_lista_negra = False\n",
        "\n",
        "# condições nomeadas com variáveis claras\n",
        "maior_de_idade = idade >= 18\n",
        "possui_carteira = tem_carteira\n",
        "aprovado = not na_lista_negra\n",
        "\n",
        "if maior_de_idade and possui_carteira and aprovado:\n",
        "    print(\"Pode alugar o carro\")\n",
        "else:\n",
        "    print(\"Não pode alugar o carro\")"
      ],
      "metadata": {
        "colab": {
          "base_uri": "https://localhost:8080/"
        },
        "id": "8MP-UH6qQ54k",
        "outputId": "401e060b-a949-4a7e-c5ae-839a9c772fc5"
      },
      "execution_count": 39,
      "outputs": [
        {
          "output_type": "stream",
          "name": "stdout",
          "text": [
            "Pode alugar o carro\n"
          ]
        }
      ]
    },
    {
      "cell_type": "markdown",
      "source": [
        "7. Responsabilidades misturadas, Código Ruim:"
      ],
      "metadata": {
        "id": "JuenFHGmQ8dE"
      }
    },
    {
      "cell_type": "code",
      "source": [
        "def salvar_usuario():\n",
        "    nome = input(\"Digite o nome: \")\n",
        "    with open(\"usuarios.txt\", \"a\") as f:\n",
        "        f.write(nome + \"\\n\")\n",
        "    print(\"Usuário salvo com sucesso!\")"
      ],
      "metadata": {
        "id": "tBz-UIyaQ_Sc"
      },
      "execution_count": 40,
      "outputs": []
    },
    {
      "cell_type": "markdown",
      "source": [
        "Código corrigido:"
      ],
      "metadata": {
        "id": "VpDbk9pLRDj5"
      }
    },
    {
      "cell_type": "code",
      "source": [
        "def ler_usuario():\n",
        "    return input(\"Digite o nome: \")\n",
        "\n",
        "def salvar_em_arquivo(nome, arquivo=\"usuarios.txt\"):\n",
        "    with open(arquivo, \"a\") as f:\n",
        "        f.write(nome + \"\\n\")\n",
        "\n",
        "def salvar_usuario():\n",
        "    nome = ler_usuario()\n",
        "    salvar_em_arquivo(nome)\n",
        "    print(\"Usuário salvo com sucesso!\")"
      ],
      "metadata": {
        "id": "qZiGxnJmRHlk"
      },
      "execution_count": 41,
      "outputs": []
    },
    {
      "cell_type": "markdown",
      "source": [
        "8. Repetição de lógica, Código Ruim:"
      ],
      "metadata": {
        "id": "5dkwfLjzRIPs"
      }
    },
    {
      "cell_type": "code",
      "source": [
        "print(\"Preço com desconto:\", 100 - (100 * 0.1))\n",
        "print(\"Preço com desconto:\", 200 - (200 * 0.1))\n",
        "print(\"Preço com desconto:\", 300 - (300 * 0.1))"
      ],
      "metadata": {
        "colab": {
          "base_uri": "https://localhost:8080/"
        },
        "id": "cne-n3xiRQws",
        "outputId": "161154c3-7bda-4010-aea0-08cd552d5c85"
      },
      "execution_count": 42,
      "outputs": [
        {
          "output_type": "stream",
          "name": "stdout",
          "text": [
            "Preço com desconto: 90.0\n",
            "Preço com desconto: 180.0\n",
            "Preço com desconto: 270.0\n"
          ]
        }
      ]
    },
    {
      "cell_type": "markdown",
      "source": [
        "Código corrigido:"
      ],
      "metadata": {
        "id": "mhEREassRTrr"
      }
    },
    {
      "cell_type": "code",
      "source": [
        "def aplicar_desconto(preco, percentual=0.1):\n",
        "    return preco - (preco * percentual)\n",
        "\n",
        "for preco in [100, 200, 300]:\n",
        "    print(\"Preço com desconto:\", aplicar_desconto(preco))\n"
      ],
      "metadata": {
        "colab": {
          "base_uri": "https://localhost:8080/"
        },
        "id": "p2ZpF-TVRTFT",
        "outputId": "b37909c4-8e07-414b-8a2c-f213ce748773"
      },
      "execution_count": 43,
      "outputs": [
        {
          "output_type": "stream",
          "name": "stdout",
          "text": [
            "Preço com desconto: 90.0\n",
            "Preço com desconto: 180.0\n",
            "Preço com desconto: 270.0\n"
          ]
        }
      ]
    },
    {
      "cell_type": "markdown",
      "source": [
        "9. Uso indevido de abreviações, Código Ruim:"
      ],
      "metadata": {
        "id": "IxEUhqobRYtz"
      }
    },
    {
      "cell_type": "code",
      "source": [
        "qt = 10\n",
        "vlr = 5\n",
        "tt = qt * vlr\n",
        "print(tt)\n"
      ],
      "metadata": {
        "colab": {
          "base_uri": "https://localhost:8080/"
        },
        "id": "BhAoQ81pRfYr",
        "outputId": "6be85270-6a64-4874-cc4f-50066fb4c3c2"
      },
      "execution_count": 44,
      "outputs": [
        {
          "output_type": "stream",
          "name": "stdout",
          "text": [
            "50\n"
          ]
        }
      ]
    },
    {
      "cell_type": "markdown",
      "source": [
        "Código corrigido:"
      ],
      "metadata": {
        "id": "S3Sc22ixRi0T"
      }
    },
    {
      "cell_type": "code",
      "source": [
        "quantidade = 10\n",
        "valor_unitario = 5\n",
        "total = quantidade * valor_unitario\n",
        "print(total)\n"
      ],
      "metadata": {
        "colab": {
          "base_uri": "https://localhost:8080/"
        },
        "id": "T0DpwLsbRjzk",
        "outputId": "faed07a9-58a4-4d5b-aa56-3817148c1731"
      },
      "execution_count": 45,
      "outputs": [
        {
          "output_type": "stream",
          "name": "stdout",
          "text": [
            "50\n"
          ]
        }
      ]
    },
    {
      "cell_type": "markdown",
      "source": [
        "10. Imports não usados, Código Ruim:"
      ],
      "metadata": {
        "id": "2fjw3_XCRmEs"
      }
    },
    {
      "cell_type": "code",
      "source": [
        "import math\n",
        "import random\n",
        "import os\n",
        "\n",
        "print(\"Hello World\")"
      ],
      "metadata": {
        "colab": {
          "base_uri": "https://localhost:8080/"
        },
        "id": "4xwXKXorRtDb",
        "outputId": "8f7af84b-75e0-4d09-cdf6-c80721ef5c5d"
      },
      "execution_count": 46,
      "outputs": [
        {
          "output_type": "stream",
          "name": "stdout",
          "text": [
            "Hello World\n"
          ]
        }
      ]
    },
    {
      "cell_type": "markdown",
      "source": [
        "Código corrigido:"
      ],
      "metadata": {
        "id": "bNYrdHYxRx76"
      }
    },
    {
      "cell_type": "code",
      "source": [
        "print(\"Hello World\")"
      ],
      "metadata": {
        "colab": {
          "base_uri": "https://localhost:8080/"
        },
        "id": "hADu-WNfRyzL",
        "outputId": "757f33a7-4544-4e59-a65a-1b1dedd6fa9f"
      },
      "execution_count": 47,
      "outputs": [
        {
          "output_type": "stream",
          "name": "stdout",
          "text": [
            "Hello World\n"
          ]
        }
      ]
    }
  ]
}